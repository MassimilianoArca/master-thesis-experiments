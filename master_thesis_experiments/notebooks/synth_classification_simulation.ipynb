{
 "cells": [
  {
   "cell_type": "code",
   "execution_count": 2,
   "metadata": {
    "collapsed": true,
    "ExecuteTime": {
     "start_time": "2023-04-03T09:37:43.109611Z",
     "end_time": "2023-04-03T09:37:43.124359Z"
    }
   },
   "outputs": [],
   "source": [
    "import numpy as np\n",
    "import pandas as pd\n",
    "\n",
    "from master_thesis_experiments.simulator_toolbox.generator.synth_classification_generator import \\\n",
    "    SynthClassificationGenerator\n",
    "from sklearn import preprocessing\n",
    "from master_thesis_experiments.main.synth_classification_simulation import SynthClassificationSimulation\n"
   ]
  },
  {
   "cell_type": "code",
   "execution_count": 3,
   "metadata": {
    "ExecuteTime": {
     "start_time": "2023-04-03T09:37:43.123543Z",
     "end_time": "2023-04-03T09:37:43.356126Z"
    }
   },
   "outputs": [
    {
     "name": "stderr",
     "output_type": "stream",
     "text": [
      "[DEBUG] [master_thesis_experiments.simulator_toolbox.generator.synth_classification_generator] [2023-04-03 09:37:43] Generating the dataset...\n"
     ]
    }
   ],
   "source": [
    "simulation = SynthClassificationSimulation(\n",
    "    name='prova',\n",
    "    generator=SynthClassificationGenerator(3,1,3),\n",
    "    strategies=[],\n",
    "    base_learners=[],\n",
    "    results_dir=''\n",
    ")\n",
    "\n",
    "simulation.generate_dataset(3,100,30)"
   ]
  },
  {
   "cell_type": "code",
   "execution_count": 6,
   "outputs": [],
   "source": [
    "from master_thesis_experiments.active_learning.uncertainty_entropy import UncertaintySampling\n",
    "import matplotlib.pyplot as plt"
   ],
   "metadata": {
    "collapsed": false,
    "ExecuteTime": {
     "start_time": "2023-04-03T09:40:58.732111Z",
     "end_time": "2023-04-03T09:40:59.861706Z"
    }
   }
  },
  {
   "cell_type": "code",
   "execution_count": 5,
   "outputs": [
    {
     "name": "stderr",
     "output_type": "stream",
     "text": [
      "[DEBUG] [master_thesis_experiments.simulator_toolbox.generator.synth_classification_generator] [2023-04-03 09:37:47] Estimating new concept...\n",
      "[DEBUG] [master_thesis_experiments.simulator_toolbox.generator.synth_classification_generator] [2023-04-03 09:37:47] Building past classifiers...\n",
      "[DEBUG] [master_thesis_experiments.simulator_toolbox.generator.synth_classification_generator] [2023-04-03 09:37:47] Computing label per concept...\n",
      "[DEBUG] [master_thesis_experiments.simulator_toolbox.generator.synth_classification_generator] [2023-04-03 09:37:47] Computing correlation matrix...\n",
      "[DEBUG] [master_thesis_experiments.simulator_toolbox.generator.synth_classification_generator] [2023-04-03 09:38:27] Computing prior class probabilities...\n",
      "[DEBUG] [master_thesis_experiments.simulator_toolbox.generator.synth_classification_generator] [2023-04-03 09:38:27] Computing samples uncertainty...\n"
     ]
    }
   ],
   "source": [
    "sampler = UncertaintySampling(\n",
    "    concept_mapping=simulation.concept_mapping,\n",
    "    concept_list=simulation.concepts,\n",
    "    n_samples=1\n",
    ")\n",
    "\n",
    "sampler.estimate_new_concept()\n",
    "sampler.build_past_classifiers()\n",
    "sampler.compute_label_per_concept()\n",
    "sampler.compute_correlation_matrix()\n",
    "sampler.compute_prior_class_probabilities()\n",
    "sampler.compute_samples_probabilities()\n",
    "sampler.compute_samples_uncertainty()\n",
    "sampler.select_samples()\n",
    "sampler.relabel_samples()\n",
    "sampler.add_samples_to_concept()\n"
   ],
   "metadata": {
    "collapsed": false,
    "ExecuteTime": {
     "start_time": "2023-04-03T09:37:47.849381Z",
     "end_time": "2023-04-03T09:38:27.618914Z"
    }
   }
  },
  {
   "cell_type": "code",
   "execution_count": null,
   "outputs": [],
   "source": [],
   "metadata": {
    "collapsed": false
   }
  }
 ],
 "metadata": {
  "kernelspec": {
   "display_name": "Python 3 (ipykernel)",
   "language": "python",
   "name": "python3"
  },
  "language_info": {
   "codemirror_mode": {
    "name": "ipython",
    "version": 3
   },
   "file_extension": ".py",
   "mimetype": "text/x-python",
   "name": "python",
   "nbconvert_exporter": "python",
   "pygments_lexer": "ipython3",
   "version": "3.8.16"
  }
 },
 "nbformat": 4,
 "nbformat_minor": 1
}
