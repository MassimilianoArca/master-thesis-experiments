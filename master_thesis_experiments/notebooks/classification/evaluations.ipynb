{
 "cells": [
  {
   "cell_type": "markdown",
   "metadata": {},
   "source": [
    "# Importance Weights analysis"
   ]
  },
  {
   "cell_type": "markdown",
   "metadata": {},
   "source": [
    "### 1 - Import Data"
   ]
  },
  {
   "cell_type": "code",
   "execution_count": 2,
   "metadata": {
    "ExecuteTime": {
     "start_time": "2023-04-29T17:10:07.358128Z",
     "end_time": "2023-04-29T17:10:07.362799Z"
    }
   },
   "outputs": [],
   "source": [
    "import os\n",
    "import numpy as np\n",
    "import pandas as pd\n",
    "import json\n",
    "\n"
   ]
  },
  {
   "cell_type": "code",
   "execution_count": 3,
   "outputs": [],
   "source": [
    "os.chdir('..')"
   ],
   "metadata": {
    "collapsed": false,
    "ExecuteTime": {
     "start_time": "2023-04-29T17:10:07.340267Z",
     "end_time": "2023-04-29T17:10:07.363168Z"
    }
   }
  },
  {
   "cell_type": "code",
   "execution_count": 47,
   "outputs": [],
   "source": [
    "sim_path = '../results/synth_classification_fixed_dataset_and_samples/29-04-2023-18:13'"
   ],
   "metadata": {
    "collapsed": false,
    "ExecuteTime": {
     "start_time": "2023-04-29T18:17:35.296899Z",
     "end_time": "2023-04-29T18:17:35.298891Z"
    }
   }
  },
  {
   "cell_type": "code",
   "execution_count": 48,
   "outputs": [],
   "source": [
    "def get_immediate_subdirectories(a_dir):\n",
    "    return [name for name in os.listdir(a_dir)\n",
    "            if os.path.isdir(os.path.join(a_dir, name))]\n",
    "\n",
    "runs_dirs = get_immediate_subdirectories(sim_path)"
   ],
   "metadata": {
    "collapsed": false,
    "ExecuteTime": {
     "start_time": "2023-04-29T18:17:36.049111Z",
     "end_time": "2023-04-29T18:17:36.056233Z"
    }
   }
  },
  {
   "cell_type": "code",
   "execution_count": 49,
   "outputs": [],
   "source": [
    "true_weights_list = []\n",
    "pre_AL_weights_list = []\n",
    "\n",
    "uncertainty_spreading_weights = {}\n",
    "first_K_sampling_weights = {}\n",
    "random_sampling_weights = {}\n",
    "\n",
    "STRATEGIES = [\n",
    "    \"RandomSampling\",\n",
    "    \"UncertaintySpreading\"\n",
    "]\n",
    "\n",
    "for run in runs_dirs:\n",
    "    with open(sim_path + '/'+ run +'/true_weights.json', 'r') as f:\n",
    "        true_weights_list.append(json.load(f))\n",
    "\n",
    "    with open(sim_path + '/'+ run +'/pre_AL_weights.json', 'r') as f:\n",
    "        pre_AL_weights_list.append(json.load(f))\n",
    "\n",
    "    with open(sim_path + '/'+ run +'/metadata.json', 'r') as f:\n",
    "        metadata = json.load(f)\n",
    "\n",
    "    for strategy in STRATEGIES:\n",
    "\n",
    "        strategy_path = sim_path + '/' + run + '/' + strategy\n",
    "\n",
    "        for n in range(metadata['n_samples']):\n",
    "\n",
    "            n_sample = n + 1\n",
    "\n",
    "            with open(strategy_path + '/' + str(n_sample) + '_samples.json', 'r') as f:\n",
    "\n",
    "                if strategy == \"RandomSampling\":\n",
    "                    random_sampling_weights[n_sample] = json.load(f)\n",
    "\n",
    "                elif strategy == \"UncertaintySpreading\":\n",
    "                    uncertainty_spreading_weights[n_sample] = json.load(f)\n",
    "\n",
    "                elif strategy == \"FirstKSampling\":\n",
    "                    first_K_sampling_weights[n_sample] = json.load(f)"
   ],
   "metadata": {
    "collapsed": false,
    "ExecuteTime": {
     "start_time": "2023-04-29T18:17:36.564275Z",
     "end_time": "2023-04-29T18:17:36.766494Z"
    }
   }
  },
  {
   "cell_type": "code",
   "execution_count": 50,
   "outputs": [
    {
     "data": {
      "text/plain": "dict_keys([1, 2, 3, 4, 5, 6, 7, 8, 9, 10, 11, 12, 13, 14, 15, 16, 17, 18, 19, 20, 21, 22, 23, 24, 25, 26, 27, 28, 29, 30, 31, 32, 33, 34, 35, 36, 37, 38, 39, 40, 41, 42, 43, 44, 45, 46, 47, 48, 49, 50, 51, 52, 53, 54, 55, 56, 57, 58, 59, 60, 61, 62, 63, 64, 65, 66, 67, 68, 69, 70, 71, 72, 73, 74, 75, 76, 77, 78, 79, 80, 81, 82, 83, 84, 85, 86, 87, 88, 89, 90, 91, 92, 93, 94, 95, 96, 97, 98, 99, 100])"
     },
     "execution_count": 50,
     "metadata": {},
     "output_type": "execute_result"
    }
   ],
   "source": [
    "uncertainty_spreading_weights.keys()"
   ],
   "metadata": {
    "collapsed": false,
    "ExecuteTime": {
     "start_time": "2023-04-29T18:17:38.119858Z",
     "end_time": "2023-04-29T18:17:38.129872Z"
    }
   }
  },
  {
   "cell_type": "markdown",
   "source": [
    "### Compute MAE"
   ],
   "metadata": {
    "collapsed": false
   }
  },
  {
   "cell_type": "code",
   "execution_count": 51,
   "outputs": [],
   "source": [
    "from sklearn.metrics import mean_absolute_error"
   ],
   "metadata": {
    "collapsed": false,
    "ExecuteTime": {
     "start_time": "2023-04-29T18:17:39.650813Z",
     "end_time": "2023-04-29T18:17:39.664206Z"
    }
   }
  },
  {
   "cell_type": "code",
   "execution_count": 52,
   "outputs": [],
   "source": [
    "mae_us = {}\n",
    "for key in uncertainty_spreading_weights.keys():\n",
    "    mae_us[key] = mean_absolute_error(true_weights_list[0], uncertainty_spreading_weights[key])\n"
   ],
   "metadata": {
    "collapsed": false,
    "ExecuteTime": {
     "start_time": "2023-04-29T18:17:40.229246Z",
     "end_time": "2023-04-29T18:17:40.271349Z"
    }
   }
  },
  {
   "cell_type": "code",
   "execution_count": 53,
   "outputs": [],
   "source": [
    "mae_rs = {}\n",
    "for key in random_sampling_weights.keys():\n",
    "    mae_rs[key] = mean_absolute_error(true_weights_list[0], random_sampling_weights[key])"
   ],
   "metadata": {
    "collapsed": false,
    "ExecuteTime": {
     "start_time": "2023-04-29T18:17:41.027464Z",
     "end_time": "2023-04-29T18:17:41.076945Z"
    }
   }
  },
  {
   "cell_type": "markdown",
   "source": [
    "### Plot Results"
   ],
   "metadata": {
    "collapsed": false
   }
  },
  {
   "cell_type": "code",
   "execution_count": 54,
   "outputs": [],
   "source": [
    "import matplotlib.pyplot as plt"
   ],
   "metadata": {
    "collapsed": false,
    "ExecuteTime": {
     "start_time": "2023-04-29T18:17:42.322564Z",
     "end_time": "2023-04-29T18:17:42.353803Z"
    }
   }
  },
  {
   "cell_type": "code",
   "execution_count": 55,
   "outputs": [
    {
     "data": {
      "text/plain": "([1,\n  2,\n  3,\n  4,\n  5,\n  6,\n  7,\n  8,\n  9,\n  10,\n  11,\n  12,\n  13,\n  14,\n  15,\n  16,\n  17,\n  18,\n  19,\n  20,\n  21,\n  22,\n  23,\n  24,\n  25,\n  26,\n  27,\n  28,\n  29,\n  30,\n  31,\n  32,\n  33,\n  34,\n  35,\n  36,\n  37,\n  38,\n  39,\n  40,\n  41,\n  42,\n  43,\n  44,\n  45,\n  46,\n  47,\n  48,\n  49,\n  50,\n  51,\n  52,\n  53,\n  54,\n  55,\n  56,\n  57,\n  58,\n  59,\n  60,\n  61,\n  62,\n  63,\n  64,\n  65,\n  66,\n  67,\n  68,\n  69,\n  70,\n  71,\n  72,\n  73,\n  74,\n  75,\n  76,\n  77,\n  78,\n  79,\n  80,\n  81,\n  82,\n  83,\n  84,\n  85,\n  86,\n  87,\n  88,\n  89,\n  90,\n  91,\n  92,\n  93,\n  94,\n  95,\n  96,\n  97,\n  98,\n  99,\n  100],\n [0.200944134721827,\n  0.20355631275647335,\n  0.19565413679325275,\n  0.19698357797982086,\n  0.20167832521131301,\n  0.2014460257134426,\n  0.200853720865513,\n  0.20739325090979155,\n  0.20783320657248436,\n  0.20509660960806697,\n  0.2038444266763983,\n  0.2029211724878611,\n  0.20584410206353915,\n  0.20925380399465102,\n  0.22614472070733252,\n  0.2275281657572062,\n  0.22482811084745785,\n  0.22334477025981347,\n  0.2242159927127183,\n  0.22984368707313593,\n  0.2345040002239299,\n  0.23617237413726305,\n  0.23859870431541186,\n  0.23927691040448157,\n  0.2326023210111082,\n  0.23570860464993013,\n  0.23837144774685565,\n  0.24428505870571476,\n  0.24227149222688615,\n  0.2504680434564113,\n  0.2537116866747768,\n  0.25595641510170497,\n  0.25490808779670865,\n  0.25915384303155997,\n  0.2615267111339045,\n  0.26475642094556345,\n  0.2671494627794868,\n  0.27041409757648666,\n  0.27710554900594003,\n  0.2802520729534932,\n  0.2794692124649953,\n  0.2860472335589213,\n  0.2891147780189875,\n  0.29713509352705425,\n  0.29318695191879557,\n  0.28985138076886013,\n  0.286140480141163,\n  0.2873014541207959,\n  0.2928518043259912,\n  0.2962722078827782,\n  0.30163037782056423,\n  0.304776894061055,\n  0.30187556900682333,\n  0.3127158737139046,\n  0.3111632292409949,\n  0.30739068634454364,\n  0.3124048279786928,\n  0.31592751231303123,\n  0.3164285670375032,\n  0.32038275986542797,\n  0.3282979604859127,\n  0.3259221872536081,\n  0.33054958909555326,\n  0.32833372679644235,\n  0.3299070161955108,\n  0.3270249340389002,\n  0.3268813574059598,\n  0.3282319706398194,\n  0.3238271675954863,\n  0.3223607199960876,\n  0.3244332038494179,\n  0.3240609010105996,\n  0.3238946600483477,\n  0.32130553240095006,\n  0.3326359861411637,\n  0.33426887983236747,\n  0.33262460113250214,\n  0.3351631997292302,\n  0.33372697583293987,\n  0.3386785286579117,\n  0.3418330634595647,\n  0.34382342725617293,\n  0.34942581414882395,\n  0.34961830537719285,\n  0.3500140559581814,\n  0.3519738102717343,\n  0.3536304080431759,\n  0.3511452302226637,\n  0.34940713108654203,\n  0.3498034426048556,\n  0.35168248140932984,\n  0.3495726507004243,\n  0.34897324327596874,\n  0.35051930261139036,\n  0.34818314181690246,\n  0.35581982794758377,\n  0.3548578154600385,\n  0.3551643239763321,\n  0.35996243637069547,\n  0.36020426602472744])"
     },
     "execution_count": 55,
     "metadata": {},
     "output_type": "execute_result"
    }
   ],
   "source": [
    "list(mae_rs.keys()), list(mae_rs.values())"
   ],
   "metadata": {
    "collapsed": false,
    "ExecuteTime": {
     "start_time": "2023-04-29T18:17:42.822564Z",
     "end_time": "2023-04-29T18:17:42.832670Z"
    }
   }
  },
  {
   "cell_type": "code",
   "execution_count": 57,
   "outputs": [
    {
     "data": {
      "text/plain": "<Figure size 640x480 with 1 Axes>",
      "image/png": "[encoded data removed]"
     },
     "metadata": {},
     "output_type": "display_data"
    }
   ],
   "source": [
    "# create a new figure and axis object\n",
    "fig, ax = plt.subplots()\n",
    "\n",
    "# plot the MAE values for each model as a line\n",
    "ax.plot(list(mae_rs.keys()), list(mae_rs.values()), label='Random Sampling')\n",
    "ax.plot(list(mae_us.keys()),list(mae_us.values()), label='Uncertainty Spreading')\n",
    "\n",
    "# add a legend to the plot\n",
    "ax.legend()\n",
    "\n",
    "# set the x-axis label\n",
    "ax.set_xlabel('Number of relabeled samples')\n",
    "\n",
    "# set the y-axis label\n",
    "ax.set_ylabel('MAE')\n",
    "\n",
    "# set the title of the plot\n",
    "ax.set_title('MAE for different strategies')\n",
    "\n",
    "# display the plot\n",
    "plt.show()\n"
   ],
   "metadata": {
    "collapsed": false,
    "ExecuteTime": {
     "start_time": "2023-04-29T18:18:35.531895Z",
     "end_time": "2023-04-29T18:18:35.795165Z"
    }
   }
  },
  {
   "cell_type": "code",
   "execution_count": null,
   "outputs": [],
   "source": [],
   "metadata": {
    "collapsed": false
   }
  }
 ],
 "metadata": {
  "kernelspec": {
   "display_name": "Python 3 (ipykernel)",
   "language": "python",
   "name": "python3"
  },
  "language_info": {
   "codemirror_mode": {
    "name": "ipython",
    "version": 3
   },
   "file_extension": ".py",
   "mimetype": "text/x-python",
   "name": "python",
   "nbconvert_exporter": "python",
   "pygments_lexer": "ipython3",
   "version": "3.8.16"
  }
 },
 "nbformat": 4,
 "nbformat_minor": 1
}
