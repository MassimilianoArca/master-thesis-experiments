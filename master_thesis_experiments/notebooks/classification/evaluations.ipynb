{
 "cells": [
  {
   "cell_type": "markdown",
   "metadata": {},
   "source": [
    "# Importance Weights analysis"
   ]
  },
  {
   "cell_type": "markdown",
   "metadata": {},
   "source": [
    "### 1 - Import Data"
   ]
  },
  {
   "cell_type": "code",
   "execution_count": 2,
   "metadata": {
    "ExecuteTime": {
     "start_time": "2023-04-27T16:20:31.053356Z",
     "end_time": "2023-04-27T16:20:32.057893Z"
    }
   },
   "outputs": [],
   "source": [
    "import os\n",
    "import numpy as np\n",
    "import pandas as pd\n",
    "import json"
   ]
  },
  {
   "cell_type": "code",
   "execution_count": 3,
   "outputs": [],
   "source": [
    "os.chdir('..')"
   ],
   "metadata": {
    "collapsed": false,
    "ExecuteTime": {
     "start_time": "2023-04-27T16:20:33.123914Z",
     "end_time": "2023-04-27T16:20:33.131992Z"
    }
   }
  },
  {
   "cell_type": "code",
   "execution_count": 4,
   "outputs": [],
   "source": [
    "sim_path = '../results/synth_classification/27-04-2023-15:37'"
   ],
   "metadata": {
    "collapsed": false,
    "ExecuteTime": {
     "start_time": "2023-04-27T16:21:14.134818Z",
     "end_time": "2023-04-27T16:21:14.173100Z"
    }
   }
  },
  {
   "cell_type": "code",
   "execution_count": 5,
   "outputs": [],
   "source": [
    "def get_immediate_subdirectories(a_dir):\n",
    "    return [name for name in os.listdir(a_dir)\n",
    "            if os.path.isdir(os.path.join(a_dir, name))]\n",
    "\n",
    "runs_dirs = get_immediate_subdirectories(sim_path)"
   ],
   "metadata": {
    "collapsed": false,
    "ExecuteTime": {
     "start_time": "2023-04-27T16:21:57.264642Z",
     "end_time": "2023-04-27T16:21:57.288043Z"
    }
   }
  },
  {
   "cell_type": "code",
   "execution_count": 9,
   "outputs": [],
   "source": [
    "true_weights_list = []\n",
    "pre_AL_weights_list = []\n",
    "\n",
    "uncertainty_spreading_weight_list = []\n",
    "first_K_sampling_weight_list = []\n",
    "random_sampling_weight_list = []\n",
    "\n",
    "for run in runs_dirs:\n",
    "    with open(sim_path + '/'+ run +'/true_weights.json', 'r') as f:\n",
    "        true_weights_list.append(json.load(f))\n",
    "\n",
    "    with open(sim_path + '/'+ run +'/pre_AL_weights.json', 'r') as f:\n",
    "        pre_AL_weights_list.append(json.load(f))\n",
    "\n",
    "    with open(sim_path + '/'+ run +'/UncertaintySpreading.json', 'r') as f:\n",
    "        uncertainty_spreading_weight_list.append(json.load(f))\n",
    "\n",
    "    with open(sim_path + '/'+ run +'/FirstKSampling.json', 'r') as f:\n",
    "        first_K_sampling_weight_list.append(json.load(f))\n",
    "\n",
    "    with open(sim_path + '/'+ run +'/RandomSampling.json', 'r') as f:\n",
    "        random_sampling_weight_list.append(json.load(f))"
   ],
   "metadata": {
    "collapsed": false,
    "ExecuteTime": {
     "start_time": "2023-04-27T16:30:30.102890Z",
     "end_time": "2023-04-27T16:30:30.206021Z"
    }
   }
  },
  {
   "cell_type": "code",
   "execution_count": null,
   "outputs": [],
   "source": [],
   "metadata": {
    "collapsed": false
   }
  }
 ],
 "metadata": {
  "kernelspec": {
   "display_name": "Python 3 (ipykernel)",
   "language": "python",
   "name": "python3"
  },
  "language_info": {
   "codemirror_mode": {
    "name": "ipython",
    "version": 3
   },
   "file_extension": ".py",
   "mimetype": "text/x-python",
   "name": "python",
   "nbconvert_exporter": "python",
   "pygments_lexer": "ipython3",
   "version": "3.8.16"
  }
 },
 "nbformat": 4,
 "nbformat_minor": 1
}
