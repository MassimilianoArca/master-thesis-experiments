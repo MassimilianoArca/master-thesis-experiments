{
 "cells": [
  {
   "cell_type": "code",
   "execution_count": null,
   "id": "initial_id",
   "metadata": {
    "collapsed": true
   },
   "outputs": [],
   "source": [
    "import numpy as np\n",
    "import matplotlib.pyplot as plt\n",
    "from sklearn.datasets import make_classification\n",
    "\n",
    "# Generate synthetic dataset\n",
    "n_samples = 300\n",
    "n_features = 2\n",
    "n_classes = 3\n",
    "\n",
    "X, _ = make_blobs(n_samples=1000, centers=n_classes, n_features=n_features, cluster_std=3, random_state=42)\n",
    "\n",
    "\n",
    "def custom_boundary_1(x, y):\n",
    "    return (x*0.3)**2 + 0.5*y - 3\n",
    "\n",
    "def custom_boundary_2(x, y):\n",
    "    return -(x*0.6)**2 + y - x + 4\n",
    "\n",
    "def rotate(x, y, theta):\n",
    "    return [x*np.cos(theta) - y*np.sin(theta), x*np.sin(theta) + y*np.cos(theta)]\n",
    "\n",
    "# Create a meshgrid for visualization\n",
    "x_min, x_max = X[:, 0].min() - 0.1, X[:, 0].max() + 0.1\n",
    "y_min, y_max = X[:, 1].min() - 0.1, X[:, 1].max() + 0.1\n",
    "xx, yy = np.meshgrid(np.linspace(x_min, x_max, 100), np.linspace(y_min, y_max, 100))\n",
    "\n",
    "# Evaluate decision boundaries on the meshgrid\n",
    "xx_rotated, yy_rotated = rotate(xx, yy, 0)\n",
    "boundary_1 = custom_boundary_1(xx_rotated, yy_rotated)\n",
    "boundary_2 = custom_boundary_2(xx_rotated, yy_rotated)\n",
    "\n",
    "# Classify points based on overlapping custom quadratic decision boundaries\n",
    "classified_labels = []\n",
    "for point in X:\n",
    "    rotated_point = rotate(point[0], point[1], 0)\n",
    "    region_1 = custom_boundary_1(rotated_point[0], rotated_point[1]) >= 0 \n",
    "    region_2 = custom_boundary_2(rotated_point[0], rotated_point[1]) >= 0\n",
    "    \n",
    "    if region_1 and region_2:\n",
    "        classified_labels.append(1)\n",
    "    elif not region_1 and region_2:\n",
    "        classified_labels.append(2)\n",
    "    elif not region_1 and not region_2:\n",
    "        classified_labels.append(3)\n",
    "    else:\n",
    "        classified_labels.append(4)\n",
    "\n",
    "# Visualization\n",
    "plt.figure(figsize=(8, 6))\n",
    "plt.scatter(X[:, 0], X[:, 1], c=classified_labels, cmap=plt.cm.Spectral, marker='o', edgecolors='k')\n",
    "plt.contour(xx, yy, boundary_1, levels=[0], colors='blue')\n",
    "plt.contour(xx, yy, boundary_2, levels=[0], colors='orange')\n",
    "plt.xlabel('Feature 1')\n",
    "plt.ylabel('Feature 2')\n",
    "plt.title('Classification Based on Overlapping Quadratic Decision Boundaries')\n",
    "plt.show()"
   ]
  },
  {
   "cell_type": "code",
   "execution_count": null,
   "outputs": [],
   "source": [
    "def custom_boundary_1(x, y):\n",
    "    return (x*0.3)**2 + y - 3\n",
    "\n",
    "def custom_boundary_2(x, y):\n",
    "    return -(x*0.3)**2 + y - x + 4\n",
    "\n",
    "def rotate(x, y, theta):\n",
    "    return [x*np.cos(theta) - y*np.sin(theta), x*np.sin(theta) + y*np.cos(theta)]"
   ],
   "metadata": {
    "collapsed": false
   },
   "id": "bb1dc2db00ec53bd"
  },
  {
   "cell_type": "code",
   "execution_count": null,
   "outputs": [],
   "source": [
    "from sklearn.metrics import euclidean_distances\n",
    "\n",
    "\n",
    "def generate_mean_values(min_distance, n_features, n_classes):\n",
    "    mean_values = []\n",
    "    while len(mean_values) < n_classes:\n",
    "        means = np.random.uniform(-3, 3, n_features)\n",
    "        too_close = False\n",
    "        for existing_mean in mean_values:\n",
    "            distance = euclidean_distances([means], [existing_mean])[0][0]\n",
    "            if distance < min_distance:\n",
    "                too_close = True\n",
    "                break\n",
    "        if not too_close:\n",
    "            mean_values.append(means)\n",
    "    return mean_values"
   ],
   "metadata": {
    "collapsed": false
   },
   "id": "5b8dcbad5e2b0ff9"
  },
  {
   "cell_type": "code",
   "execution_count": null,
   "outputs": [],
   "source": [
    "centers = generate_mean_values(\n",
    "                min_distance=3,\n",
    "                n_features=2,\n",
    "                n_classes=4,\n",
    "            )"
   ],
   "metadata": {
    "collapsed": false
   },
   "id": "86ee37d1fd17a9c"
  },
  {
   "cell_type": "code",
   "execution_count": null,
   "outputs": [],
   "source": [
    "n_concepts = 5\n",
    "concept_size = 1000\n",
    "last_concept_size = 20"
   ],
   "metadata": {
    "collapsed": false
   },
   "id": "a586cfa6d6c3f1cc"
  },
  {
   "cell_type": "code",
   "execution_count": null,
   "outputs": [],
   "source": [
    "\n",
    "for i in range(n_concepts):\n",
    "\n",
    "    if i != n_concepts - 1:\n",
    "        X, _ = make_blobs(\n",
    "            n_samples=concept_size,\n",
    "            centers=centers,\n",
    "            n_features=2,\n",
    "            cluster_std=1.5,\n",
    "        )\n",
    "    else:\n",
    "        X, _ = make_blobs(\n",
    "            n_samples=last_concept_size,\n",
    "            centers=centers,\n",
    "            n_features=2,\n",
    "            cluster_std=1.5,\n",
    "        )\n",
    "        \n",
    "    x_min, x_max = X[:, 0].min() - 0.1, X[:, 0].max() + 0.1\n",
    "    y_min, y_max = X[:, 1].min() - 0.1, X[:, 1].max() + 0.1\n",
    "    xx, yy = np.meshgrid(np.linspace(x_min, x_max, 100), np.linspace(y_min, y_max, 100))\n",
    "    \n",
    "    # Evaluate decision boundaries on the meshgrid\n",
    "    xx_rotated, yy_rotated = rotate(xx, yy, 0.5*i)\n",
    "    boundary_1 = custom_boundary_1(xx_rotated, yy_rotated)\n",
    "    boundary_2 = custom_boundary_2(xx_rotated, yy_rotated)\n",
    "\n",
    "    classified_labels = []\n",
    "    for point in X:\n",
    "        rotated_point = rotate(point[0], point[1], 0.5*i)\n",
    "        region_1 = custom_boundary_1(rotated_point[0], rotated_point[1]) >= 0\n",
    "        region_2 = custom_boundary_2(rotated_point[0], rotated_point[1]) >= 0\n",
    "\n",
    "        if region_1 and region_2:\n",
    "            classified_labels.append(1)\n",
    "        elif not region_1 and region_2:\n",
    "            classified_labels.append(2)\n",
    "        elif not region_1 and not region_2:\n",
    "            classified_labels.append(3)\n",
    "        else:\n",
    "            classified_labels.append(4)\n",
    "    \n",
    "    # merge X with classified_labels in a Pandas DataFrame\n",
    "    df = pd.DataFrame(X, columns=['X_0', 'X_1'])\n",
    "    df['y_0'] = classified_labels\n",
    "    \n",
    "    \n",
    "    plt.figure(figsize=(8, 6))\n",
    "    plt.scatter(df['X_0'], df['X_1'], c=df['y_0'], cmap=plt.cm.Spectral, marker='o', edgecolors='k')\n",
    "    plt.contour(xx, yy, boundary_1, levels=[0], colors='blue')\n",
    "    plt.contour(xx, yy, boundary_2, levels=[0], colors='orange')\n",
    "    plt.xlabel('Feature 1')\n",
    "    plt.ylabel('Feature 2')\n",
    "    plt.title(f'Concept_{i}')\n",
    "    plt.show()"
   ],
   "metadata": {
    "collapsed": false
   },
   "id": "5a464abdc17ea51"
  }
 ],
 "metadata": {
  "kernelspec": {
   "display_name": "Python 3",
   "language": "python",
   "name": "python3"
  },
  "language_info": {
   "codemirror_mode": {
    "name": "ipython",
    "version": 2
   },
   "file_extension": ".py",
   "mimetype": "text/x-python",
   "name": "python",
   "nbconvert_exporter": "python",
   "pygments_lexer": "ipython2",
   "version": "2.7.6"
  }
 },
 "nbformat": 4,
 "nbformat_minor": 5
}
