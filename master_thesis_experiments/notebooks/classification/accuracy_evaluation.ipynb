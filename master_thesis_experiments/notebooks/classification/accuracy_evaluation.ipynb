{
 "cells": [
  {
   "cell_type": "markdown",
   "metadata": {
    "collapsed": false
   },
   "source": [
    "# Accuracy Analysis"
   ]
  },
  {
   "cell_type": "code",
   "execution_count": 26,
   "metadata": {
    "ExecuteTime": {
     "end_time": "2023-08-01T13:18:19.891863Z",
     "start_time": "2023-08-01T13:18:17.986540Z"
    }
   },
   "outputs": [],
   "source": [
    "import os\n",
    "import numpy as np\n",
    "import pandas as pd\n",
    "import json\n",
    "import matplotlib.pyplot as plt\n",
    "from sklearn.metrics import mean_absolute_error\n",
    "from copy import deepcopy"
   ]
  },
  {
   "cell_type": "code",
   "execution_count": 54,
   "metadata": {
    "collapsed": false,
    "ExecuteTime": {
     "end_time": "2023-08-01T13:26:09.846487Z",
     "start_time": "2023-08-01T13:26:09.769768Z"
    }
   },
   "outputs": [],
   "source": [
    "sim_path = '../../results/synth_classification_fixed_dataset_and_samples_v2/01-08-2023-14:34'"
   ]
  },
  {
   "cell_type": "code",
   "execution_count": 55,
   "metadata": {
    "collapsed": false,
    "ExecuteTime": {
     "end_time": "2023-08-01T13:26:11.085548Z",
     "start_time": "2023-08-01T13:26:10.973556Z"
    }
   },
   "outputs": [],
   "source": [
    "def get_immediate_subdirectories(a_dir):\n",
    "    return [name for name in os.listdir(a_dir)\n",
    "            if os.path.isdir(os.path.join(a_dir, name))]\n",
    "\n",
    "runs_dirs = get_immediate_subdirectories(sim_path)\n",
    "runs_dirs.sort()"
   ]
  },
  {
   "cell_type": "code",
   "execution_count": 56,
   "metadata": {
    "collapsed": false,
    "ExecuteTime": {
     "end_time": "2023-08-01T13:26:11.990848Z",
     "start_time": "2023-08-01T13:26:11.783258Z"
    }
   },
   "outputs": [],
   "source": [
    "runs_dirs = ['10']"
   ]
  },
  {
   "cell_type": "code",
   "execution_count": 57,
   "outputs": [],
   "source": [
    "pre_AL_accuracy = {}\n",
    "clairvoyant_final_accuracy = {}\n",
    "concept_list_dict = {}\n",
    "test_set = {}\n",
    "weights = {}\n",
    "metadata = {}\n",
    "\n",
    "weighted_sampling_accuracy = {}\n",
    "random_sampling_accuracy = {}\n",
    "clairvoyant_accuracy = {}\n",
    "\n",
    "ws_selected_samples = {}\n",
    "rs_selected_samples = {}\n",
    "\n",
    "STRATEGIES = [\n",
    "    \"WeightedSampling\",\n",
    "    \"RandomSamplingV2\",\n",
    "    \"clairvoyant\"\n",
    "]\n",
    "\n",
    "for run in runs_dirs:\n",
    "\n",
    "    with open(sim_path + '/'+ run +'/metadata.json', 'r') as f:\n",
    "        metadata[run] = json.load(f)\n",
    "\n",
    "    run_path = sim_path + '/' + run + '/'\n",
    "\n",
    "    concept_list_dict[run] = []\n",
    "\n",
    "    test_set[run] = pd.read_csv(\n",
    "        filepath_or_buffer=run_path + 'test_set.csv',\n",
    "        dtype='str'\n",
    "    ).astype('float64')\n",
    "\n",
    "    weights[run] = pd.read_csv(\n",
    "        filepath_or_buffer=run_path + 'weights.csv',\n",
    "        dtype='str'\n",
    "    ).astype('float64')\n",
    "\n",
    "    for n in range(metadata[run]['n_concepts']):\n",
    "\n",
    "        # noinspection PyTypeChecker\n",
    "        concept_list_dict[run].append(pd.read_csv(\n",
    "            filepath_or_buffer=run_path + 'concept_' + str(n) + '.csv',\n",
    "            dtype='str'\n",
    "        ).astype('float64'))\n",
    "\n",
    "    pre_AL_accuracy[run] = pd.read_csv(\n",
    "        filepath_or_buffer=run_path + 'pre_AL_accuracy.csv',\n",
    "        dtype='str',\n",
    "        header=None\n",
    "    ).astype('float64').iloc[0, 0]\n",
    "\n",
    "    clairvoyant_final_accuracy[run] = pd.read_csv(\n",
    "        filepath_or_buffer=run_path + 'clairvoyant_final_accuracy.csv',\n",
    "        dtype='str',\n",
    "        header=None\n",
    "    ).astype('float64').iloc[0, 0]\n",
    "\n",
    "    weighted_sampling_accuracy[run] = {}\n",
    "    random_sampling_accuracy[run] = {}\n",
    "    clairvoyant_accuracy[run] = {}\n",
    "\n",
    "    for strategy in STRATEGIES:\n",
    "\n",
    "        strategy_path = run_path + strategy\n",
    "\n",
    "        if strategy == 'WeightedSampling':\n",
    "\n",
    "            ws_selected_samples[run] = pd.read_csv(\n",
    "                filepath_or_buffer=strategy_path + '/' + 'selected_samples.csv',\n",
    "                dtype='str'\n",
    "            ).astype('float64')\n",
    "\n",
    "        elif strategy == 'RandomSamplingV2':\n",
    "            rs_selected_samples[run] = pd.read_csv(\n",
    "                filepath_or_buffer=strategy_path + '/' + 'selected_samples.csv',\n",
    "                dtype='str'\n",
    "            ).astype('float64')\n",
    "\n",
    "        for n in range(metadata[run]['n_samples']):\n",
    "            n_sample = n + 1\n",
    "\n",
    "            sample_path = strategy_path + '/' + str(n_sample) + '_samples.csv'\n",
    "\n",
    "            if strategy == \"WeightedSampling\":\n",
    "                weighted_sampling_accuracy[run][n_sample] = pd.read_csv(\n",
    "                    filepath_or_buffer=sample_path,\n",
    "                    dtype='str',\n",
    "                    header=None\n",
    "                ).astype('float64').iloc[0, 0]\n",
    "\n",
    "            elif strategy == \"RandomSamplingV2\":\n",
    "                random_sampling_accuracy[run][n_sample] = pd.read_csv(\n",
    "                    filepath_or_buffer=sample_path,\n",
    "                    dtype='str',\n",
    "                    header=None\n",
    "                ).astype('float64').iloc[0, 0]\n",
    "\n",
    "            elif strategy == \"clairvoyant\":\n",
    "                clairvoyant_accuracy[run][n_sample] = pd.read_csv(\n",
    "                    filepath_or_buffer=sample_path,\n",
    "                    dtype='str',\n",
    "                    header=None\n",
    "                ).astype('float64').iloc[0, 0]"
   ],
   "metadata": {
    "collapsed": false,
    "ExecuteTime": {
     "end_time": "2023-08-01T13:26:17.324353Z",
     "start_time": "2023-08-01T13:26:12.896847Z"
    }
   }
  },
  {
   "cell_type": "code",
   "execution_count": 58,
   "metadata": {
    "collapsed": false,
    "ExecuteTime": {
     "end_time": "2023-08-01T13:26:17.462493Z",
     "start_time": "2023-08-01T13:26:17.333803Z"
    }
   },
   "outputs": [],
   "source": [
    "def load_data(run_dirs):\n",
    "    pre_AL_accuracy = {}\n",
    "    clairvoyant_final_accuracy = {}\n",
    "    concept_list_dict = {}\n",
    "    test_set = {}\n",
    "    weights = {}\n",
    "    metadata = {}\n",
    "\n",
    "    weighted_sampling_accuracy = {}\n",
    "    random_sampling_accuracy = {}\n",
    "    clairvoyant_accuracy = {}\n",
    "\n",
    "    ws_selected_samples = {}\n",
    "    rs_selected_samples = {}\n",
    "\n",
    "    STRATEGIES = [\n",
    "        \"WeightedSampling\",\n",
    "        \"RandomSamplingV2\",\n",
    "        \"clairvoyant\"\n",
    "    ]\n",
    "\n",
    "    for run in runs_dirs:\n",
    "\n",
    "        with open(sim_path + '/'+ run +'/metadata.json', 'r') as f:\n",
    "            metadata[run] = json.load(f)\n",
    "\n",
    "        run_path = sim_path + '/' + run + '/'\n",
    "\n",
    "        concept_list_dict[run] = []\n",
    "\n",
    "        test_set[run] = pd.read_csv(\n",
    "            filepath_or_buffer=run_path + 'test_set.csv',\n",
    "            dtype='str'\n",
    "        ).astype('float64')\n",
    "\n",
    "        weights[run] = pd.read_csv(\n",
    "            filepath_or_buffer=run_path + 'weights.csv',\n",
    "            dtype='str'\n",
    "        ).astype('float64')\n",
    "\n",
    "        for n in range(metadata[run]['n_concepts']):\n",
    "\n",
    "            # noinspection PyTypeChecker\n",
    "            concept_list_dict[run].append(pd.read_csv(\n",
    "                filepath_or_buffer=run_path + 'concept_' + str(n) + '.csv',\n",
    "                dtype='str'\n",
    "            ).astype('float64'))\n",
    "\n",
    "        pre_AL_accuracy[run] = pd.read_csv(\n",
    "            filepath_or_buffer=run_path + 'pre_AL_accuracy.csv',\n",
    "            dtype='str',\n",
    "            header=None\n",
    "        ).astype('float64').iloc[0, 0]\n",
    "\n",
    "        clairvoyant_final_accuracy[run] = pd.read_csv(\n",
    "            filepath_or_buffer=run_path + 'clairvoyant_final_accuracy.csv',\n",
    "            dtype='str',\n",
    "            header=None\n",
    "        ).astype('float64').iloc[0, 0]\n",
    "\n",
    "        weighted_sampling_accuracy[run] = {}\n",
    "        random_sampling_accuracy[run] = {}\n",
    "        clairvoyant_accuracy[run] = {}\n",
    "\n",
    "        for strategy in STRATEGIES:\n",
    "\n",
    "            strategy_path = run_path + strategy\n",
    "\n",
    "            if strategy == 'WeightedSampling':\n",
    "\n",
    "                ws_selected_samples[run] = pd.read_csv(\n",
    "                    filepath_or_buffer=strategy_path + '/' + 'selected_samples.csv',\n",
    "                    dtype='str'\n",
    "                ).astype('float64')\n",
    "\n",
    "            elif strategy == 'RandomSamplingV2':\n",
    "                rs_selected_samples[run] = pd.read_csv(\n",
    "                    filepath_or_buffer=strategy_path + '/' + 'selected_samples.csv',\n",
    "                    dtype='str'\n",
    "                ).astype('float64')\n",
    "\n",
    "            for n in range(metadata[run]['n_samples']):\n",
    "                n_sample = n + 1\n",
    "\n",
    "                sample_path = strategy_path + '/' + str(n_sample) + '_samples.csv'\n",
    "\n",
    "                if strategy == \"WeightedSampling\":\n",
    "                    weighted_sampling_accuracy[run][n_sample] = pd.read_csv(\n",
    "                        filepath_or_buffer=sample_path,\n",
    "                        dtype='str',\n",
    "                        header=None\n",
    "                    ).astype('float64').iloc[0, 0]\n",
    "\n",
    "                elif strategy == \"RandomSamplingV2\":\n",
    "                    random_sampling_accuracy[run][n_sample] = pd.read_csv(\n",
    "                        filepath_or_buffer=sample_path,\n",
    "                        dtype='str',\n",
    "                        header=None\n",
    "                    ).astype('float64').iloc[0, 0]\n",
    "\n",
    "                elif strategy == \"clairvoyant\":\n",
    "                    clairvoyant_accuracy[run][n_sample] = pd.read_csv(\n",
    "                        filepath_or_buffer=sample_path,\n",
    "                        dtype='str',\n",
    "                        header=None\n",
    "                    ).astype('float64').iloc[0, 0]\n",
    "    return pre_AL_accuracy, clairvoyant_final_accuracy, concept_list_dict, test_set, weights, metadata, weighted_sampling_accuracy, random_sampling_accuracy, clairvoyant_accuracy, ws_selected_samples, rs_selected_samples"
   ]
  },
  {
   "cell_type": "code",
   "execution_count": 59,
   "metadata": {
    "collapsed": false,
    "ExecuteTime": {
     "end_time": "2023-08-01T13:26:17.463801Z",
     "start_time": "2023-08-01T13:26:17.357309Z"
    }
   },
   "outputs": [],
   "source": [
    "import matplotlib.colors as mcolors\n",
    "\n",
    "color_cycle = mcolors.TABLEAU_COLORS  # You can choose any color set here\n",
    "color_names = list(color_cycle.keys())\n",
    "\n",
    "n_classes = metadata[runs_dirs[0]]['n_classes']\n",
    "\n",
    "color_list = [color_cycle[color_names[i]] for i in range(n_classes)]"
   ]
  },
  {
   "cell_type": "markdown",
   "metadata": {
    "collapsed": false
   },
   "source": [
    "### Plot Concepts"
   ]
  },
  {
   "cell_type": "code",
   "execution_count": 60,
   "outputs": [],
   "source": [
    "%%script false --no-raise-error\n",
    "\n",
    "for (run, concept_list) in concept_list_dict.items():\n",
    "    for index,concept in enumerate(concept_list):\n",
    "        classes_groups = concept.groupby('y_0')\n",
    "\n",
    "        fig, ax = plt.subplots()\n",
    "        if index == len(concept_list) - 1:\n",
    "            test_classes_groups = test_set[run].groupby('y_0')\n",
    "\n",
    "            for test_index, ((test_label, test_group), (label, group))  in enumerate(zip(test_classes_groups, classes_groups)):\n",
    "                ax.scatter(test_group['X_0'], test_group['X_1'], color=color_list[int(label)], alpha=0.2\n",
    "                )\n",
    "                ax.scatter(group['X_0'], group['X_1'], label=label, color=color_list[int(label)])\n",
    "        else:\n",
    "            for i, (label, group) in enumerate(classes_groups):\n",
    "                ax.scatter(group['X_0'], group['X_1'], label=label, color=color_list[int(label)])\n",
    "\n",
    "\n",
    "\n",
    "        plt.xlabel('X_0')\n",
    "        plt.ylabel('X_1')\n",
    "        ax.legend()\n",
    "        plt.title('Run #' + str(run) + ' Concept ' + str(index))\n",
    "        plt.show()"
   ],
   "metadata": {
    "collapsed": false,
    "ExecuteTime": {
     "end_time": "2023-08-01T13:26:17.640750Z",
     "start_time": "2023-08-01T13:26:17.434413Z"
    }
   }
  },
  {
   "cell_type": "code",
   "execution_count": 61,
   "metadata": {
    "collapsed": false,
    "ExecuteTime": {
     "end_time": "2023-08-01T13:26:17.716051Z",
     "start_time": "2023-08-01T13:26:17.552082Z"
    }
   },
   "outputs": [],
   "source": [
    "import matplotlib.colors as mcolors\n",
    "\n",
    "color_cycle = mcolors.TABLEAU_COLORS  # You can choose any color set here\n",
    "color_names = list(color_cycle.keys())\n",
    "\n",
    "n_classes = metadata[runs_dirs[0]]['n_classes']\n",
    "\n",
    "color_list = [color_cycle[color_names[i]] for i in range(n_classes)]"
   ]
  },
  {
   "cell_type": "markdown",
   "metadata": {
    "collapsed": false
   },
   "source": [
    "### Plot Weighted Dataset"
   ]
  },
  {
   "cell_type": "code",
   "execution_count": 62,
   "metadata": {
    "collapsed": false,
    "ExecuteTime": {
     "end_time": "2023-08-01T13:26:17.805484Z",
     "start_time": "2023-08-01T13:26:17.615076Z"
    }
   },
   "outputs": [],
   "source": [
    "%%script false --no-raise-error\n",
    "\n",
    "\n",
    "concept_size = metadata[runs_dirs[0]]['concept_size']\n",
    "for (run, concept_list) in concept_list_dict.items():\n",
    "\n",
    "    run_weights = weights[run]\n",
    "\n",
    "    marker_size = (run_weights['weights'] - np.min(run_weights['weights'])) / (np.max(run_weights['weights']) - np.min(run_weights['weights'])) * 60\n",
    "    marker_alpha = (run_weights['weights'] - np.min(run_weights['weights'])) / (np.max(run_weights['weights']) - np.min(run_weights['weights'])) * 0.8 + 0.2\n",
    "\n",
    "    for index,concept in enumerate(concept_list[:-1]):\n",
    "\n",
    "        start_index = index * concept_size\n",
    "        end_index = (index + 1) * concept_size - 1\n",
    "\n",
    "        concept['weights'] = run_weights.loc[start_index:end_index, 'weights']\n",
    "\n",
    "        fig, ax = plt.subplots()\n",
    "\n",
    "        classes = concept['y_0'].unique()\n",
    "        for c in classes:\n",
    "\n",
    "            indexes = concept.loc[concept['y_0'] == c].index\n",
    "            ax.scatter(\n",
    "                concept.loc[concept['y_0'] == c, 'X_0'],\n",
    "                concept.loc[concept['y_0'] == c, 'X_1'],\n",
    "                color=color_list[int(c)],\n",
    "                label=c,\n",
    "                s=marker_size.loc[indexes].tolist(),\n",
    "                alpha=marker_alpha.loc[indexes].tolist()\n",
    "            )\n",
    "\n",
    "\n",
    "\n",
    "        plt.xlabel('X_0')\n",
    "        plt.ylabel('X_1')\n",
    "        ax.legend()\n",
    "        plt.title('Run #' + str(run) + ' Concept ' + str(index))\n",
    "        plt.show()"
   ]
  },
  {
   "cell_type": "markdown",
   "metadata": {
    "collapsed": false
   },
   "source": [
    "### Plot Uncertainty Heatmap"
   ]
  },
  {
   "cell_type": "code",
   "execution_count": 63,
   "metadata": {
    "collapsed": false,
    "ExecuteTime": {
     "end_time": "2023-08-01T13:26:19.424967Z",
     "start_time": "2023-08-01T13:26:19.210912Z"
    }
   },
   "outputs": [],
   "source": [
    "%%script false --no-raise-error\n",
    "\n",
    "from sklearn.linear_model import LogisticRegression\n",
    "from sklearn.model_selection import train_test_split\n",
    "from scipy.stats import entropy\n",
    "\n",
    "\n",
    "for (run, concept_list) in concept_list_dict.items():\n",
    "    for index, concept in enumerate(concept_list):\n",
    "\n",
    "        if index == len(concept_list) - 1:\n",
    "            X_train, X_test, y_train, y_test = train_test_split(\n",
    "                concept[['X_0', 'X_1']],\n",
    "                concept['y_0'],\n",
    "                test_size=0.2,\n",
    "                random_state=42\n",
    "            )\n",
    "\n",
    "            clf = LogisticRegression(random_state=42, solver='sag', multi_class='multinomial')\n",
    "            clf.fit(X_train, y_train)\n",
    "\n",
    "            resolution = 0.5\n",
    "            x_min, x_max = concept['X_0'].min() - 0.5, concept['X_0'].max() + 0.5\n",
    "            y_min, y_max = concept['X_1'].min() - 0.5, concept['X_1'].max() + 0.5\n",
    "            xx, yy = np.meshgrid(np.arange(x_min, x_max, resolution),\n",
    "                                 np.arange(y_min, y_max, resolution))\n",
    "\n",
    "            input_data = pd.DataFrame(np.c_[xx.ravel(), yy.ravel()], columns=['X_0', 'X_1'])\n",
    "\n",
    "            probabilities = clf.predict_proba(input_data)\n",
    "            uncertainty_scores = np.apply_along_axis(entropy, 1, probabilities)\n",
    "\n",
    "            uncertainty_map = uncertainty_scores.reshape(xx.shape)\n",
    "\n",
    "            fig, ax = plt.subplots()\n",
    "\n",
    "            heatmap = ax.imshow(uncertainty_map, cmap='coolwarm', alpha=0.8, extent=(x_min, x_max, y_min, y_max), origin='lower')\n",
    "            cbar = fig.colorbar(heatmap)\n",
    "\n",
    "\n",
    "            ax.set_xlabel('X_0')\n",
    "            ax.set_ylabel('X_1')\n",
    "            plt.title('Uncertainty Heatmap')\n",
    "            plt.show()"
   ]
  },
  {
   "cell_type": "markdown",
   "metadata": {
    "collapsed": false
   },
   "source": [
    "### Computing mean and std accuracy"
   ]
  },
  {
   "cell_type": "code",
   "execution_count": 64,
   "metadata": {
    "collapsed": false,
    "ExecuteTime": {
     "end_time": "2023-08-01T13:26:21.334016Z",
     "start_time": "2023-08-01T13:26:21.143463Z"
    }
   },
   "outputs": [
    {
     "data": {
      "text/plain": "0.7933333333333333"
     },
     "execution_count": 64,
     "metadata": {},
     "output_type": "execute_result"
    }
   ],
   "source": [
    "mean_pre_AL_accuracy = np.mean(\n",
    "    a=list(pre_AL_accuracy.values()),\n",
    "    axis=0\n",
    ")\n",
    "mean_pre_AL_accuracy"
   ]
  },
  {
   "cell_type": "code",
   "execution_count": 65,
   "metadata": {
    "collapsed": false,
    "ExecuteTime": {
     "end_time": "2023-08-01T13:26:22.408010Z",
     "start_time": "2023-08-01T13:26:22.169583Z"
    }
   },
   "outputs": [
    {
     "data": {
      "text/plain": "0.99"
     },
     "execution_count": 65,
     "metadata": {},
     "output_type": "execute_result"
    }
   ],
   "source": [
    "mean_clairvoyant_accuracy = np.mean(\n",
    "    a=list(clairvoyant_final_accuracy.values()),\n",
    "    axis=0\n",
    ")\n",
    "mean_clairvoyant_accuracy"
   ]
  },
  {
   "cell_type": "code",
   "execution_count": 66,
   "metadata": {
    "collapsed": false,
    "ExecuteTime": {
     "end_time": "2023-08-01T13:26:23.932229Z",
     "start_time": "2023-08-01T13:26:23.732758Z"
    }
   },
   "outputs": [],
   "source": [
    "ws_accuracy = {}\n",
    "for run in weighted_sampling_accuracy.keys():\n",
    "    ws_accuracy[run] = []\n",
    "    for key in weighted_sampling_accuracy[run].keys():\n",
    "        ws_accuracy[run].append(weighted_sampling_accuracy[run][key])"
   ]
  },
  {
   "cell_type": "code",
   "execution_count": 67,
   "metadata": {
    "collapsed": false,
    "ExecuteTime": {
     "end_time": "2023-08-01T13:26:24.580317Z",
     "start_time": "2023-08-01T13:26:24.361855Z"
    }
   },
   "outputs": [],
   "source": [
    "rs_accuracy = {}\n",
    "for run in random_sampling_accuracy.keys():\n",
    "    rs_accuracy[run] = []\n",
    "    for key in random_sampling_accuracy[run].keys():\n",
    "        rs_accuracy[run].append(random_sampling_accuracy[run][key])"
   ]
  },
  {
   "cell_type": "code",
   "execution_count": 68,
   "metadata": {
    "collapsed": false,
    "ExecuteTime": {
     "end_time": "2023-08-01T13:26:27.752060Z",
     "start_time": "2023-08-01T13:26:27.503652Z"
    }
   },
   "outputs": [],
   "source": [
    "cl_accuracy = {}\n",
    "for run in clairvoyant_accuracy.keys():\n",
    "    cl_accuracy[run] = []\n",
    "    for key in clairvoyant_accuracy[run].keys():\n",
    "        cl_accuracy[run].append(clairvoyant_accuracy[run][key])"
   ]
  },
  {
   "cell_type": "code",
   "execution_count": 69,
   "metadata": {
    "collapsed": false,
    "ExecuteTime": {
     "end_time": "2023-08-01T13:26:28.354141Z",
     "start_time": "2023-08-01T13:26:28.180313Z"
    }
   },
   "outputs": [],
   "source": [
    "mean_ws_accuracy = np.mean(a=list(ws_accuracy.values()), axis=0)\n",
    "mean_rs_accuracy = np.mean(a=list(rs_accuracy.values()), axis=0)\n",
    "mean_cl_accuracy = np.mean(a=list(cl_accuracy.values()), axis=0)"
   ]
  },
  {
   "cell_type": "code",
   "execution_count": 70,
   "metadata": {
    "collapsed": false,
    "ExecuteTime": {
     "end_time": "2023-08-01T13:26:29.083020Z",
     "start_time": "2023-08-01T13:26:28.857571Z"
    }
   },
   "outputs": [],
   "source": [
    "std_ws_accuracy = np.std(a=list(ws_accuracy.values()), axis=0) / np.sqrt(metadata[runs_dirs[0]]['test_set_size'])\n",
    "std_rs_accuracy = np.std(a=list(rs_accuracy.values()), axis=0) / np.sqrt(metadata[runs_dirs[0]]['test_set_size'])\n",
    "std_cl_accuracy = np.std(a=list(cl_accuracy.values()), axis=0) / np.sqrt(metadata[runs_dirs[0]]['test_set_size'])"
   ]
  },
  {
   "cell_type": "markdown",
   "metadata": {
    "collapsed": false
   },
   "source": [
    "### Plot results"
   ]
  },
  {
   "cell_type": "code",
   "execution_count": 71,
   "metadata": {
    "collapsed": false,
    "ExecuteTime": {
     "end_time": "2023-08-01T13:26:31.951997Z",
     "start_time": "2023-08-01T13:26:30.223143Z"
    }
   },
   "outputs": [
    {
     "data": {
      "text/plain": "<Figure size 640x480 with 1 Axes>",
      "image/png": "[encoded data removed]"
     },
     "metadata": {},
     "output_type": "display_data"
    }
   ],
   "source": [
    "# create a new figure and axis object\n",
    "fig, ax = plt.subplots()\n",
    "\n",
    "\n",
    "# plot the accuracy values for each model as a line\n",
    "ax.plot(range(len(mean_ws_accuracy)), mean_ws_accuracy, label='Weighted Sampling')\n",
    "ax.plot(range(len(mean_rs_accuracy)), mean_rs_accuracy, label='Random Sampling')\n",
    "ax.plot(range(len(mean_cl_accuracy)), mean_cl_accuracy, label='Clairvoyant')\n",
    "ax.fill_between(range(len(mean_ws_accuracy)), mean_ws_accuracy - std_ws_accuracy, mean_ws_accuracy + std_ws_accuracy, color='blue', alpha=0.1)\n",
    "ax.fill_between(range(len(mean_rs_accuracy)), mean_rs_accuracy - std_rs_accuracy, mean_rs_accuracy + std_rs_accuracy, color='orange', alpha=0.1)\n",
    "ax.fill_between(range(len(mean_cl_accuracy)), mean_cl_accuracy - std_cl_accuracy, mean_cl_accuracy + std_cl_accuracy, color='green', alpha=0.1)\n",
    "plt.axhline(y=mean_pre_AL_accuracy, color='r', linestyle='-', label='Pre AL')\n",
    "plt.axhline(y=mean_clairvoyant_accuracy, color='y', linestyle='-', label='Clairvoyant Final')\n",
    "\n",
    "# add a legend to the plot\n",
    "ax.legend()\n",
    "\n",
    "# set the x-axis label\n",
    "ax.set_xlabel('Number of relabeled samples')\n",
    "\n",
    "# set the y-axis label\n",
    "ax.set_ylabel('Accuracy')\n",
    "\n",
    "# set the title of the plot\n",
    "ax.set_title('Accuracy for different strategies - Concept size: ' + str(metadata[runs_dirs[0]]['last_concept_size']))\n",
    "\n",
    "# display the plot\n",
    "\n",
    "plt.show()"
   ]
  },
  {
   "cell_type": "markdown",
   "metadata": {
    "collapsed": false,
    "jp-MarkdownHeadingCollapsed": true
   },
   "source": [
    "### Plot Selected Samples"
   ]
  },
  {
   "cell_type": "code",
   "execution_count": null,
   "metadata": {
    "collapsed": false,
    "ExecuteTime": {
     "start_time": "2023-08-01T13:24:45.295376Z"
    }
   },
   "outputs": [],
   "source": [
    "pd.set_option('display.max_rows', None)"
   ]
  },
  {
   "cell_type": "code",
   "execution_count": null,
   "metadata": {
    "collapsed": false
   },
   "outputs": [],
   "source": [
    "unmatched_samples = deepcopy(ws_selected_samples)"
   ]
  },
  {
   "cell_type": "code",
   "execution_count": null,
   "metadata": {
    "collapsed": false
   },
   "outputs": [],
   "source": [
    "for (run, concept_list) in concept_list_dict.items():\n",
    "    for concept in concept_list:\n",
    "        unmatched_samples[run] = pd.merge(unmatched_samples[run], concept, indicator=True, how='outer').query('_merge==\"left_only\"').drop('_merge', axis=1)"
   ]
  },
  {
   "cell_type": "code",
   "execution_count": null,
   "metadata": {
    "collapsed": false
   },
   "outputs": [],
   "source": [
    "# useful to know how many samples have been relabeled with a different label\n",
    "# from the original one when applying change to the select samples methods\n",
    "len(unmatched_samples)"
   ]
  },
  {
   "cell_type": "code",
   "execution_count": null,
   "metadata": {
    "collapsed": false
   },
   "outputs": [],
   "source": [
    "for (run, concept_list) in concept_list_dict.items():\n",
    "    for index,concept in enumerate(concept_list):\n",
    "        classes_groups = concept.groupby('y_0')\n",
    "\n",
    "        selected_samples_ws = pd.merge(concept, ws_selected_samples[run])\n",
    "        selected_samples_rs = pd.merge(concept, rs_selected_samples[run])\n",
    "\n",
    "        fig, ax = plt.subplots()\n",
    "        for i, (label, group) in enumerate(classes_groups):\n",
    "            ax.scatter(group['X_0'], group['X_1'],\n",
    "                    label='Class ' + str(int(label)), color=color_list[int(label)])\n",
    "\n",
    "            if index == len(concept_list) - 1:\n",
    "                class_samples = ws_selected_samples[run].loc[ws_selected_samples[run]['y_0'] == label]\n",
    "                selected_samples = pd.concat([group, class_samples], axis=0)\n",
    "                ax.scatter(selected_samples['X_0'], selected_samples['X_1'], color=color_list[int(label)], alpha=0.2, marker='v')\n",
    "\n",
    "        plt.scatter(selected_samples_ws['X_0'], selected_samples_ws['X_1'], c='black', marker='x', label='WS count: ' + str(selected_samples_ws.value_counts().count()))\n",
    "        plt.scatter(selected_samples_rs['X_0'], selected_samples_rs['X_1'], c='white', marker='x', label='RS count: ' + str(selected_samples_rs.value_counts().count()))\n",
    "        plt.xlabel('X_0')\n",
    "        plt.ylabel('X_1')\n",
    "        ax.legend()\n",
    "        plt.title('Run #' + str(run) + ' Concept ' + str(index))\n",
    "        plt.show()"
   ]
  },
  {
   "cell_type": "markdown",
   "source": [
    "## Master Cell"
   ],
   "metadata": {
    "collapsed": false
   }
  },
  {
   "cell_type": "code",
   "execution_count": null,
   "outputs": [],
   "source": [
    "from itertools import product\n",
    "\n",
    "gammas_handler = [0.1, 0.2, 0.3]\n",
    "alphas = [0.1, 0.2, 0.3, 0.4, 0.5]\n",
    "gammas = [0.1, 0.2, 0.3, 0.4, 0.5]\n",
    "\n",
    "for gamma_handler, alpha, gamma in product(gammas_handler, alphas, gammas):\n",
    "\n",
    "    # build simulation path\n",
    "    sim_path = '../../results/synth_classification_fixed_dataset_and_samples_v2/22-07-2023-14:12_gamma_handler:' + str(gamma_handler) + '-alpha:' + str(alpha) + '-gamma:' + str(gamma)\n",
    "\n",
    "    # get run dirs\n",
    "    runs_dirs = get_immediate_subdirectories(sim_path)\n",
    "    runs_dirs.sort()\n",
    "\n",
    "    # load data\n",
    "    pre_AL_accuracy, clairvoyant_final_accuracy, concept_list_dict, test_set, weights, metadata, weighted_sampling_accuracy, random_sampling_accuracy, clairvoyant_accuracy, ws_selected_samples, rs_selected_samples = load_data(runs_dirs)\n",
    "\n",
    "    # compute means and stds\n",
    "    mean_pre_AL_accuracy = np.mean(\n",
    "    a=list(pre_AL_accuracy.values()),\n",
    "    axis=0\n",
    "    )\n",
    "\n",
    "    mean_clairvoyant_accuracy = np.mean(\n",
    "    a=list(clairvoyant_final_accuracy.values()),\n",
    "    axis=0\n",
    "    )\n",
    "\n",
    "    ws_accuracy = {}\n",
    "    for run in weighted_sampling_accuracy.keys():\n",
    "        ws_accuracy[run] = []\n",
    "        for key in weighted_sampling_accuracy[run].keys():\n",
    "            ws_accuracy[run].append(weighted_sampling_accuracy[run][key])\n",
    "    rs_accuracy = {}\n",
    "    for run in random_sampling_accuracy.keys():\n",
    "        rs_accuracy[run] = []\n",
    "        for key in random_sampling_accuracy[run].keys():\n",
    "            rs_accuracy[run].append(random_sampling_accuracy[run][key])\n",
    "    cl_accuracy = {}\n",
    "    for run in clairvoyant_accuracy.keys():\n",
    "        cl_accuracy[run] = []\n",
    "        for key in clairvoyant_accuracy[run].keys():\n",
    "            cl_accuracy[run].append(clairvoyant_accuracy[run][key])\n",
    "\n",
    "    mean_ws_accuracy = np.mean(a=list(ws_accuracy.values()), axis=0)\n",
    "    mean_rs_accuracy = np.mean(a=list(rs_accuracy.values()), axis=0)\n",
    "    mean_cl_accuracy = np.mean(a=list(cl_accuracy.values()), axis=0)\n",
    "\n",
    "    std_ws_accuracy = np.std(a=list(ws_accuracy.values()), axis=0) / np.sqrt(metadata[runs_dirs[0]]['test_set_size'])\n",
    "    std_rs_accuracy = np.std(a=list(rs_accuracy.values()), axis=0) / np.sqrt(metadata[runs_dirs[0]]['test_set_size'])\n",
    "    std_cl_accuracy = np.std(a=list(cl_accuracy.values()), axis=0) / np.sqrt(metadata[runs_dirs[0]]['test_set_size'])\n",
    "\n",
    "\n",
    "    # plot results\n",
    "    fig, ax = plt.subplots()\n",
    "\n",
    "\n",
    "    # plot the accuracy values for each model as a line\n",
    "    ax.plot(range(len(mean_ws_accuracy)), mean_ws_accuracy, label='Weighted Sampling')\n",
    "    ax.plot(range(len(mean_rs_accuracy)), mean_rs_accuracy, label='Random Sampling')\n",
    "    ax.plot(range(len(mean_cl_accuracy)), mean_cl_accuracy, label='Clairvoyant')\n",
    "    ax.fill_between(range(len(mean_ws_accuracy)), mean_ws_accuracy - std_ws_accuracy, mean_ws_accuracy + std_ws_accuracy, color='blue', alpha=0.1)\n",
    "    ax.fill_between(range(len(mean_rs_accuracy)), mean_rs_accuracy - std_rs_accuracy, mean_rs_accuracy + std_rs_accuracy, color='orange', alpha=0.1)\n",
    "    ax.fill_between(range(len(mean_cl_accuracy)), mean_cl_accuracy - std_cl_accuracy, mean_cl_accuracy + std_cl_accuracy, color='green', alpha=0.1)\n",
    "    plt.axhline(y=mean_pre_AL_accuracy, color='r', linestyle='-', label='Pre AL')\n",
    "    plt.axhline(y=mean_clairvoyant_accuracy, color='y', linestyle='-', label='Clairvoyant Final')\n",
    "\n",
    "    # add a legend to the plot\n",
    "    ax.legend()\n",
    "\n",
    "    # set the x-axis label\n",
    "    ax.set_xlabel('Number of relabeled samples')\n",
    "\n",
    "    # set the y-axis label\n",
    "    ax.set_ylabel('Accuracy')\n",
    "\n",
    "    # set the title of the plot\n",
    "    ax.set_title('Accuracy for different strategies - Concept size: ' + str(metadata[runs_dirs[0]]['last_concept_size']))\n",
    "\n",
    "    # display the plot\n",
    "\n",
    "    plt.show()"
   ],
   "metadata": {
    "collapsed": false
   }
  },
  {
   "cell_type": "code",
   "execution_count": null,
   "outputs": [],
   "source": [],
   "metadata": {
    "collapsed": false,
    "ExecuteTime": {
     "start_time": "2023-08-01T13:24:45.062570Z"
    }
   }
  },
  {
   "cell_type": "code",
   "execution_count": null,
   "outputs": [],
   "source": [
    "from scipy.io import arff\n",
    "import pandas as pd\n",
    "\n",
    "\n",
    "data = arff.loadarff('/Users/massimilianoarca/Downloads/usenet-three.arff')\n",
    "df = pd.DataFrame(data[0])\n",
    "\n",
    "print(df.head())"
   ],
   "metadata": {
    "collapsed": false,
    "ExecuteTime": {
     "start_time": "2023-08-01T13:24:45.068884Z"
    }
   }
  }
 ],
 "metadata": {
  "kernelspec": {
   "display_name": "master-thesis-experiments-g4j-UPCy-py3.8",
   "language": "python",
   "name": "master-thesis-experiments-g4j-upcy-py3.8"
  },
  "language_info": {
   "codemirror_mode": {
    "name": "ipython",
    "version": 3
   },
   "file_extension": ".py",
   "mimetype": "text/x-python",
   "name": "python",
   "nbconvert_exporter": "python",
   "pygments_lexer": "ipython3",
   "version": "3.8.16"
  }
 },
 "nbformat": 4,
 "nbformat_minor": 4
}
